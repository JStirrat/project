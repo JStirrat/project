{
 "cells": [
  {
   "cell_type": "markdown",
   "metadata": {},
   "source": [
    "# Quanitifed Self Project\n",
    "\n",
    "by Katie Imhof and John Stirrat"
   ]
  },
  {
   "cell_type": "markdown",
   "metadata": {},
   "source": [
    "### Introduction\n",
    "\n",
    "* The domain that we chose to look at for this project is our Spotify listening data. The reasons we decided to use this domain was because we both enjoy listening to music a lot, and thought it would be interesting to analyze our listening habits, since we both spend a lot of time using Spotify\n",
    "* The data from Spotify is in JSON files\n",
    "* There is one table from this dataset, and it is collected whenever a song is listened too, where all of the attributes(listed below) are recorded \n",
    "* The attributes this data has are:\n",
    "    * Date and End time (which we will split and use as two seperate attributes)\n",
    "    * Artist Name\n",
    "    * Track Name\n",
    "    * Time played in Ms\n",
    "* We are interested in trying to classify the amount of time spent listening based on external factors\n",
    "* The impact of our results could lead to change in our listening habits, and could also help us understand why we listen to music more than other times\n",
    "* Potential stakeholders that could be interested in our reults could be businesses like radio stations, stores, resturants, etc, since they could potentially find the best times to play ads since they will see what factors influence listening time, so they may have an interest in our project\n"
   ]
  },
  {
   "cell_type": "markdown",
   "metadata": {},
   "source": [
    "### Data Analysis\n",
    "\n",
    "TODO:"
   ]
  },
  {
   "cell_type": "markdown",
   "metadata": {},
   "source": [
    "#### Loading and Cleaning Data:\n",
    "\n",
    "The cleaning that i did was to seperate the \"endTime\" attribute into the seperate date and end time values, since they will be more usable and relevant if they are seperate. We will also use date as a foreign key to join tables in the future, so it will be better if that is its own column"
   ]
  },
  {
   "cell_type": "code",
   "execution_count": 2,
   "metadata": {},
   "outputs": [],
   "source": [
    "import utils\n",
    "import pandas as pd\n",
    "\n",
    "john_stream_hist_df = utils.get_spotify_df(\"JohnStreamingHistory0.json\")\n",
    "\n",
    "katie_stream_hist_df = utils.get_spotify_df(\"KatieStreamingHistory0.json\")\n"
   ]
  }
 ],
 "metadata": {
  "interpreter": {
   "hash": "bcd9b2a4738c981f7b4f2fa7565d92308fafd46e8a45ef32f8e644ccd14446da"
  },
  "kernelspec": {
   "display_name": "Python 3",
   "language": "python",
   "name": "python3"
  },
  "language_info": {
   "codemirror_mode": {
    "name": "ipython",
    "version": 3
   },
   "file_extension": ".py",
   "mimetype": "text/x-python",
   "name": "python",
   "nbconvert_exporter": "python",
   "pygments_lexer": "ipython3",
   "version": "3.8.8"
  }
 },
 "nbformat": 4,
 "nbformat_minor": 4
}
