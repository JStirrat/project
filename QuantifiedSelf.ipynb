{
 "cells": [
  {
   "cell_type": "markdown",
   "metadata": {},
   "source": [
    "# Quanitifed Self Project\n",
    "\n",
    "Katie Imhof and John Stirrat\n",
    "CPSC 222, Fall 21"
   ]
  },
  {
   "cell_type": "markdown",
   "metadata": {},
   "source": [
    "### Introduction\n",
    "\n",
    "* The domain that we chose to look at for this project is our Spotify listening data. The reasons we decided to use this domain was because we both enjoy listening to music a lot, and thought it would be interesting to analyze our listening habits, since we both spend a lot of time using Spotify.\n",
    "* The data from Spotify is in JSON files.\n",
    "* There is one table from this dataset, and it is collected whenever a song is listened too, where all of the attributes (listed below) are recorded. \n",
    "* The attributes this data has are:\n",
    "    * Date and End time (which we will split and use as two seperate attributes)\n",
    "        * Continuous and interval\n",
    "    * Artist Name\n",
    "        * Categorical/discrete and nominal\n",
    "    * Track Name\n",
    "        * Categorical/discrete and nominal\n",
    "    * Time played in Ms\n",
    "        * Continuous and interval\n",
    "* We are interested in trying to classify the amount of time spent listening based on external factors.\n",
    "* The impact of our results could lead to change in our listening habits, and could also help us understand why we listen to music more than other times.\n",
    "* Potential stakeholders that could be interested in our results could be businesses like radio stations, stores, restaurants, etc, since they could potentially find the best times to play ads since they will see what factors influence listening time, so they may have an interest in our project.\n"
   ]
  },
  {
   "cell_type": "markdown",
   "metadata": {},
   "source": [
    "### Data Analysis"
   ]
  },
  {
   "cell_type": "markdown",
   "metadata": {},
   "source": [
    "#### Loading and Cleaning Data:\n",
    "\n",
    "The cleaning that I did was to separate the \"endTime\" attribute into the separate date and end time values, since they will be more usable and relevant if they are separate. We will also use date as a foreign key to join tables in the future, so it will be better if that is its own column."
   ]
  },
  {
   "cell_type": "code",
   "execution_count": 62,
   "metadata": {
    "tags": []
   },
   "outputs": [],
   "source": [
    "import utils\n",
    "import pandas as pd\n",
    "\n",
    "john_stream_hist_df = utils.get_spotify_df(\"JohnStreamingHistory0.json\")\n",
    "\n",
    "katie_stream_hist_df = utils.get_spotify_df(\"KatieStreamingHistory0.json\")"
   ]
  },
  {
   "cell_type": "markdown",
   "metadata": {},
   "source": [
    "#### Hypothesis Testing"
   ]
  },
  {
   "cell_type": "markdown",
   "metadata": {},
   "source": [
    "Problem:\n",
    "* Using the Spotify data, is the mean amount of time (in milliseconds) John listened to music between November 2020 and January 2021 greater than the mean amount of time Katie listened to music between November 2020 and January 2021?"
   ]
  },
  {
   "cell_type": "markdown",
   "metadata": {},
   "source": [
    "Type of Hypothesis T-Test:\n",
    "* An independent, two sample, one-tailed test will be performed. It's an independent test because the two groups didn't have an affect on each other, they are unrelated. It's a two sample test because there are two groups. It's a one-tailed test because we are comparing the mean amount of time listened of the two groups. A one-tailed test will be more helpful because we want $H_1$ to state a direction."
   ]
  },
  {
   "cell_type": "markdown",
   "metadata": {},
   "source": [
    "##### Step 1: State the null and alternate hypothesis"
   ]
  },
  {
   "cell_type": "markdown",
   "metadata": {},
   "source": [
    "$H_0$: $\\mu_{John}\\leq \\mu_{Katie}$\n",
    "\n",
    "\n",
    "$H_1$: $\\mu_{John} > \\mu_{Katie}$"
   ]
  },
  {
   "cell_type": "markdown",
   "metadata": {},
   "source": [
    "##### Step 2: Select the level of significance"
   ]
  },
  {
   "cell_type": "markdown",
   "metadata": {},
   "source": [
    "$\\alpha$ = 0.05"
   ]
  },
  {
   "cell_type": "markdown",
   "metadata": {},
   "source": [
    "##### Step 3: Select the appropriate test statistic"
   ]
  },
  {
   "cell_type": "markdown",
   "metadata": {},
   "source": [
    "$t=\\frac{\\overline{X_{John}} - \\overline{X_{Katie}}}{\\sqrt{s_p^2(\\frac{1}{n_{John}}+\\frac{1}{n_{Katie}})}}$"
   ]
  },
  {
   "cell_type": "markdown",
   "metadata": {},
   "source": [
    "##### Step 4: Formulate the decision rule"
   ]
  },
  {
   "cell_type": "markdown",
   "metadata": {},
   "source": [
    "First, we need to grab the dates we want which is November 2020 to January 2021, two months worth of data."
   ]
  },
  {
   "cell_type": "code",
   "execution_count": 63,
   "metadata": {},
   "outputs": [],
   "source": [
    "katie_date_df = katie_stream_hist_df[\"2020-11-01\":\"2021-01-01\"]\n",
    "john_date_df = john_stream_hist_df[\"2020-11-01\":\"2021-01-01\"]"
   ]
  },
  {
   "cell_type": "markdown",
   "metadata": {},
   "source": [
    "Now we want to grab the \"msPlayed\" column to grab the amount of music we listened to during those months."
   ]
  },
  {
   "cell_type": "code",
   "execution_count": 64,
   "metadata": {},
   "outputs": [],
   "source": [
    "katie_ms_played = katie_date_df[\"msPlayed\"]\n",
    "john_ms_played = john_date_df[\"msPlayed\"]"
   ]
  },
  {
   "cell_type": "markdown",
   "metadata": {},
   "source": [
    "Next, we need to find n for each group (the total amount of days that we're using)."
   ]
  },
  {
   "cell_type": "code",
   "execution_count": 65,
   "metadata": {},
   "outputs": [],
   "source": [
    "n_katie = len(katie_ms_played)\n",
    "n_john = len(john_ms_played)"
   ]
  },
  {
   "cell_type": "code",
   "execution_count": 66,
   "metadata": {},
   "outputs": [
    {
     "name": "stdout",
     "output_type": "stream",
     "text": [
      "df: 5627\n"
     ]
    }
   ],
   "source": [
    "df = n_katie + n_john - 2\n",
    "print(\"df:\", df)"
   ]
  },
  {
   "cell_type": "markdown",
   "metadata": {},
   "source": [
    "Since it's a one-tailed test, $\\alpha$ = 0.05 and df = 5627\n",
    "\n",
    "Looking at the t-table, t-critical is 1.645."
   ]
  },
  {
   "cell_type": "markdown",
   "metadata": {},
   "source": [
    "If t-computed > 1.645, then reject $H_0$.\n",
    "\n",
    "If t-computed <= 1.645, do not reject $H_0$."
   ]
  },
  {
   "cell_type": "markdown",
   "metadata": {},
   "source": [
    "### Step 5: Make a decision"
   ]
  },
  {
   "cell_type": "markdown",
   "metadata": {},
   "source": [
    "Using SciPy, we will now calculate t-computed."
   ]
  },
  {
   "cell_type": "code",
   "execution_count": 67,
   "metadata": {},
   "outputs": [
    {
     "name": "stdout",
     "output_type": "stream",
     "text": [
      "t: 6.863307298918676 p: 3.7260903946574615e-12\n"
     ]
    }
   ],
   "source": [
    "import scipy.stats as stats\n",
    "\n",
    "t, p = stats.ttest_ind(john_ms_played, katie_ms_played)\n",
    "print(\"t:\", t, \"p:\", p / 2)"
   ]
  },
  {
   "cell_type": "markdown",
   "metadata": {},
   "source": [
    "Since t-computed (6.86) > t-critical (1.645), reject $H_0$, $\\mu_{John} > \\mu_{Katie}$.\n",
    "\n",
    "Also, p-value < $\\alpha$ (0.05) => reject $H_0$."
   ]
  },
  {
   "cell_type": "markdown",
   "metadata": {},
   "source": [
    "Conclusion:\n",
    "* At the 0.05 level of significance, the mean amount of time (in milliseconds) that John listened to music between November 2020 and January 2021 appears to be greater than the mean amount of time Katie listened to music between November 2020 and January 2021."
   ]
  },
  {
   "cell_type": "markdown",
   "metadata": {},
   "source": [
    "#### Visualizations"
   ]
  },
  {
   "cell_type": "markdown",
   "metadata": {},
   "source": [
    "In order to display the data in a way that's easy to understand, we're going to convert the amount of time from milliseconds to seconds of the sample means."
   ]
  },
  {
   "cell_type": "code",
   "execution_count": 68,
   "metadata": {},
   "outputs": [],
   "source": [
    "import numpy as np\n",
    "\n",
    "Xbar_john = np.mean(john_ms_played)\n",
    "Xbar_katie = np.mean(katie_ms_played)\n",
    "\n",
    "Xbar_seconds_john = Xbar_john / 1000\n",
    "Xbar_seconds_katie = Xbar_katie / 1000"
   ]
  },
  {
   "cell_type": "markdown",
   "metadata": {},
   "source": [
    "To show John's mean compared to Katie's mean, we are going to use a pie chart, using the matplotlib library."
   ]
  },
  {
   "cell_type": "code",
   "execution_count": 69,
   "metadata": {},
   "outputs": [
    {
     "data": {
      "image/png": "[encoded data removed]",
      "text/plain": [
       "<Figure size 432x288 with 1 Axes>"
      ]
     },
     "metadata": {},
     "output_type": "display_data"
    }
   ],
   "source": [
    "import matplotlib.pyplot as plt\n",
    "\n",
    "means_list = [Xbar_seconds_john, Xbar_seconds_katie]\n",
    "label = [\"John\", \"Katie\"]\n",
    "\n",
    "plt.pie(means_list, labels=label)\n",
    "plt.show()"
   ]
  },
  {
   "cell_type": "markdown",
   "metadata": {},
   "source": [
    "On average, John listens to music more often than Katie."
   ]
  },
  {
   "cell_type": "markdown",
   "metadata": {},
   "source": [
    "# kNN Classification\n",
    "\n",
    "For this classification task, we will be training a kNN classifier to see if it can accurately predict what day of the week a song is listened to on based on what time of day the song is listened to. To do this, we will use the endTime attribute, since it is recorded as a time of day, and so we can use this to see what time of day we listened to a song on a certain day.\n",
    "\n",
    "To do this, the first step is to join our data with a table that contains the day of the week for a certain date. We used the table of date provided for DA3 for the days of the week.   \n",
    "The problem with using this table was, however, that the date was provided in this table was in a different format than the Spotify datasets, so we had to reformat it so it would match, and then could be used to join the two tables.\n",
    "\n",
    "Another problem was that the time of day was presented as a string, so we went through and decoded it to a numerical value. We also condensed each time into the hour of the day it was to help make the data easier to understand and use in the classifier"
   ]
  },
  {
   "cell_type": "code",
   "execution_count": 70,
   "metadata": {},
   "outputs": [
    {
     "name": "stderr",
     "output_type": "stream",
     "text": [
      "<ipython-input-70-5e5e604f0536>:22: SettingWithCopyWarning: \n",
      "A value is trying to be set on a copy of a slice from a DataFrame\n",
      "\n",
      "See the caveats in the documentation: https://pandas.pydata.org/pandas-docs/stable/user_guide/indexing.html#returning-a-view-versus-a-copy\n",
      "  john_weekday_df[\"endTime\"][i] = 1\n",
      "<ipython-input-70-5e5e604f0536>:24: SettingWithCopyWarning: \n",
      "A value is trying to be set on a copy of a slice from a DataFrame\n",
      "\n",
      "See the caveats in the documentation: https://pandas.pydata.org/pandas-docs/stable/user_guide/indexing.html#returning-a-view-versus-a-copy\n",
      "  john_weekday_df[\"endTime\"][i] = 2\n",
      "<ipython-input-70-5e5e604f0536>:58: SettingWithCopyWarning: \n",
      "A value is trying to be set on a copy of a slice from a DataFrame\n",
      "\n",
      "See the caveats in the documentation: https://pandas.pydata.org/pandas-docs/stable/user_guide/indexing.html#returning-a-view-versus-a-copy\n",
      "  john_weekday_df[\"endTime\"][i] = 19\n",
      "<ipython-input-70-5e5e604f0536>:62: SettingWithCopyWarning: \n",
      "A value is trying to be set on a copy of a slice from a DataFrame\n",
      "\n",
      "See the caveats in the documentation: https://pandas.pydata.org/pandas-docs/stable/user_guide/indexing.html#returning-a-view-versus-a-copy\n",
      "  john_weekday_df[\"endTime\"][i] = 21\n",
      "<ipython-input-70-5e5e604f0536>:64: SettingWithCopyWarning: \n",
      "A value is trying to be set on a copy of a slice from a DataFrame\n",
      "\n",
      "See the caveats in the documentation: https://pandas.pydata.org/pandas-docs/stable/user_guide/indexing.html#returning-a-view-versus-a-copy\n",
      "  john_weekday_df[\"endTime\"][i] = 22\n",
      "<ipython-input-70-5e5e604f0536>:70: SettingWithCopyWarning: \n",
      "A value is trying to be set on a copy of a slice from a DataFrame\n",
      "\n",
      "See the caveats in the documentation: https://pandas.pydata.org/pandas-docs/stable/user_guide/indexing.html#returning-a-view-versus-a-copy\n",
      "  john_weekday_df[\"endTime\"][i] = 0\n",
      "<ipython-input-70-5e5e604f0536>:26: SettingWithCopyWarning: \n",
      "A value is trying to be set on a copy of a slice from a DataFrame\n",
      "\n",
      "See the caveats in the documentation: https://pandas.pydata.org/pandas-docs/stable/user_guide/indexing.html#returning-a-view-versus-a-copy\n",
      "  john_weekday_df[\"endTime\"][i] = 3\n",
      "<ipython-input-70-5e5e604f0536>:30: SettingWithCopyWarning: \n",
      "A value is trying to be set on a copy of a slice from a DataFrame\n",
      "\n",
      "See the caveats in the documentation: https://pandas.pydata.org/pandas-docs/stable/user_guide/indexing.html#returning-a-view-versus-a-copy\n",
      "  john_weekday_df[\"endTime\"][i] = 5\n",
      "<ipython-input-70-5e5e604f0536>:52: SettingWithCopyWarning: \n",
      "A value is trying to be set on a copy of a slice from a DataFrame\n",
      "\n",
      "See the caveats in the documentation: https://pandas.pydata.org/pandas-docs/stable/user_guide/indexing.html#returning-a-view-versus-a-copy\n",
      "  john_weekday_df[\"endTime\"][i] = 16\n",
      "<ipython-input-70-5e5e604f0536>:54: SettingWithCopyWarning: \n",
      "A value is trying to be set on a copy of a slice from a DataFrame\n",
      "\n",
      "See the caveats in the documentation: https://pandas.pydata.org/pandas-docs/stable/user_guide/indexing.html#returning-a-view-versus-a-copy\n",
      "  john_weekday_df[\"endTime\"][i] = 17\n",
      "<ipython-input-70-5e5e604f0536>:56: SettingWithCopyWarning: \n",
      "A value is trying to be set on a copy of a slice from a DataFrame\n",
      "\n",
      "See the caveats in the documentation: https://pandas.pydata.org/pandas-docs/stable/user_guide/indexing.html#returning-a-view-versus-a-copy\n",
      "  john_weekday_df[\"endTime\"][i] = 18\n",
      "<ipython-input-70-5e5e604f0536>:66: SettingWithCopyWarning: \n",
      "A value is trying to be set on a copy of a slice from a DataFrame\n",
      "\n",
      "See the caveats in the documentation: https://pandas.pydata.org/pandas-docs/stable/user_guide/indexing.html#returning-a-view-versus-a-copy\n",
      "  john_weekday_df[\"endTime\"][i] = 23\n",
      "<ipython-input-70-5e5e604f0536>:28: SettingWithCopyWarning: \n",
      "A value is trying to be set on a copy of a slice from a DataFrame\n",
      "\n",
      "See the caveats in the documentation: https://pandas.pydata.org/pandas-docs/stable/user_guide/indexing.html#returning-a-view-versus-a-copy\n",
      "  john_weekday_df[\"endTime\"][i] = 4\n",
      "<ipython-input-70-5e5e604f0536>:36: SettingWithCopyWarning: \n",
      "A value is trying to be set on a copy of a slice from a DataFrame\n",
      "\n",
      "See the caveats in the documentation: https://pandas.pydata.org/pandas-docs/stable/user_guide/indexing.html#returning-a-view-versus-a-copy\n",
      "  john_weekday_df[\"endTime\"][i] = 8\n",
      "<ipython-input-70-5e5e604f0536>:60: SettingWithCopyWarning: \n",
      "A value is trying to be set on a copy of a slice from a DataFrame\n",
      "\n",
      "See the caveats in the documentation: https://pandas.pydata.org/pandas-docs/stable/user_guide/indexing.html#returning-a-view-versus-a-copy\n",
      "  john_weekday_df[\"endTime\"][i] = 20\n",
      "<ipython-input-70-5e5e604f0536>:34: SettingWithCopyWarning: \n",
      "A value is trying to be set on a copy of a slice from a DataFrame\n",
      "\n",
      "See the caveats in the documentation: https://pandas.pydata.org/pandas-docs/stable/user_guide/indexing.html#returning-a-view-versus-a-copy\n",
      "  john_weekday_df[\"endTime\"][i] = 7\n",
      "<ipython-input-70-5e5e604f0536>:32: SettingWithCopyWarning: \n",
      "A value is trying to be set on a copy of a slice from a DataFrame\n",
      "\n",
      "See the caveats in the documentation: https://pandas.pydata.org/pandas-docs/stable/user_guide/indexing.html#returning-a-view-versus-a-copy\n",
      "  john_weekday_df[\"endTime\"][i] = 6\n",
      "<ipython-input-70-5e5e604f0536>:38: SettingWithCopyWarning: \n",
      "A value is trying to be set on a copy of a slice from a DataFrame\n",
      "\n",
      "See the caveats in the documentation: https://pandas.pydata.org/pandas-docs/stable/user_guide/indexing.html#returning-a-view-versus-a-copy\n",
      "  john_weekday_df[\"endTime\"][i] = 9\n",
      "<ipython-input-70-5e5e604f0536>:40: SettingWithCopyWarning: \n",
      "A value is trying to be set on a copy of a slice from a DataFrame\n",
      "\n",
      "See the caveats in the documentation: https://pandas.pydata.org/pandas-docs/stable/user_guide/indexing.html#returning-a-view-versus-a-copy\n",
      "  john_weekday_df[\"endTime\"][i] = 10\n",
      "<ipython-input-70-5e5e604f0536>:42: SettingWithCopyWarning: \n",
      "A value is trying to be set on a copy of a slice from a DataFrame\n",
      "\n",
      "See the caveats in the documentation: https://pandas.pydata.org/pandas-docs/stable/user_guide/indexing.html#returning-a-view-versus-a-copy\n",
      "  john_weekday_df[\"endTime\"][i] = 11\n",
      "<ipython-input-70-5e5e604f0536>:50: SettingWithCopyWarning: \n",
      "A value is trying to be set on a copy of a slice from a DataFrame\n",
      "\n",
      "See the caveats in the documentation: https://pandas.pydata.org/pandas-docs/stable/user_guide/indexing.html#returning-a-view-versus-a-copy\n",
      "  john_weekday_df[\"endTime\"][i] = 15\n",
      "<ipython-input-70-5e5e604f0536>:123: SettingWithCopyWarning: \n",
      "A value is trying to be set on a copy of a slice from a DataFrame\n",
      "\n",
      "See the caveats in the documentation: https://pandas.pydata.org/pandas-docs/stable/user_guide/indexing.html#returning-a-view-versus-a-copy\n",
      "  katie_weekday_df[\"endTime\"][i] = 0\n",
      "<ipython-input-70-5e5e604f0536>:77: SettingWithCopyWarning: \n",
      "A value is trying to be set on a copy of a slice from a DataFrame\n",
      "\n",
      "See the caveats in the documentation: https://pandas.pydata.org/pandas-docs/stable/user_guide/indexing.html#returning-a-view-versus-a-copy\n",
      "  katie_weekday_df[\"endTime\"][i] = 2\n",
      "<ipython-input-70-5e5e604f0536>:79: SettingWithCopyWarning: \n",
      "A value is trying to be set on a copy of a slice from a DataFrame\n",
      "\n",
      "See the caveats in the documentation: https://pandas.pydata.org/pandas-docs/stable/user_guide/indexing.html#returning-a-view-versus-a-copy\n",
      "  katie_weekday_df[\"endTime\"][i] = 3\n",
      "<ipython-input-70-5e5e604f0536>:81: SettingWithCopyWarning: \n",
      "A value is trying to be set on a copy of a slice from a DataFrame\n",
      "\n",
      "See the caveats in the documentation: https://pandas.pydata.org/pandas-docs/stable/user_guide/indexing.html#returning-a-view-versus-a-copy\n",
      "  katie_weekday_df[\"endTime\"][i] = 4\n",
      "<ipython-input-70-5e5e604f0536>:85: SettingWithCopyWarning: \n",
      "A value is trying to be set on a copy of a slice from a DataFrame\n",
      "\n",
      "See the caveats in the documentation: https://pandas.pydata.org/pandas-docs/stable/user_guide/indexing.html#returning-a-view-versus-a-copy\n",
      "  katie_weekday_df[\"endTime\"][i] = 6\n",
      "<ipython-input-70-5e5e604f0536>:87: SettingWithCopyWarning: \n",
      "A value is trying to be set on a copy of a slice from a DataFrame\n",
      "\n",
      "See the caveats in the documentation: https://pandas.pydata.org/pandas-docs/stable/user_guide/indexing.html#returning-a-view-versus-a-copy\n",
      "  katie_weekday_df[\"endTime\"][i] = 7\n",
      "<ipython-input-70-5e5e604f0536>:91: SettingWithCopyWarning: \n",
      "A value is trying to be set on a copy of a slice from a DataFrame\n",
      "\n",
      "See the caveats in the documentation: https://pandas.pydata.org/pandas-docs/stable/user_guide/indexing.html#returning-a-view-versus-a-copy\n",
      "  katie_weekday_df[\"endTime\"][i] = 9\n",
      "<ipython-input-70-5e5e604f0536>:83: SettingWithCopyWarning: \n",
      "A value is trying to be set on a copy of a slice from a DataFrame\n",
      "\n",
      "See the caveats in the documentation: https://pandas.pydata.org/pandas-docs/stable/user_guide/indexing.html#returning-a-view-versus-a-copy\n",
      "  katie_weekday_df[\"endTime\"][i] = 5\n",
      "<ipython-input-70-5e5e604f0536>:105: SettingWithCopyWarning: \n",
      "A value is trying to be set on a copy of a slice from a DataFrame\n",
      "\n",
      "See the caveats in the documentation: https://pandas.pydata.org/pandas-docs/stable/user_guide/indexing.html#returning-a-view-versus-a-copy\n",
      "  katie_weekday_df[\"endTime\"][i] = 16\n",
      "<ipython-input-70-5e5e604f0536>:107: SettingWithCopyWarning: \n",
      "A value is trying to be set on a copy of a slice from a DataFrame\n",
      "\n",
      "See the caveats in the documentation: https://pandas.pydata.org/pandas-docs/stable/user_guide/indexing.html#returning-a-view-versus-a-copy\n",
      "  katie_weekday_df[\"endTime\"][i] = 17\n",
      "<ipython-input-70-5e5e604f0536>:109: SettingWithCopyWarning: \n",
      "A value is trying to be set on a copy of a slice from a DataFrame\n",
      "\n",
      "See the caveats in the documentation: https://pandas.pydata.org/pandas-docs/stable/user_guide/indexing.html#returning-a-view-versus-a-copy\n",
      "  katie_weekday_df[\"endTime\"][i] = 18\n",
      "<ipython-input-70-5e5e604f0536>:111: SettingWithCopyWarning: \n",
      "A value is trying to be set on a copy of a slice from a DataFrame\n",
      "\n",
      "See the caveats in the documentation: https://pandas.pydata.org/pandas-docs/stable/user_guide/indexing.html#returning-a-view-versus-a-copy\n",
      "  katie_weekday_df[\"endTime\"][i] = 19\n",
      "<ipython-input-70-5e5e604f0536>:113: SettingWithCopyWarning: \n",
      "A value is trying to be set on a copy of a slice from a DataFrame\n",
      "\n",
      "See the caveats in the documentation: https://pandas.pydata.org/pandas-docs/stable/user_guide/indexing.html#returning-a-view-versus-a-copy\n",
      "  katie_weekday_df[\"endTime\"][i] = 20\n",
      "<ipython-input-70-5e5e604f0536>:117: SettingWithCopyWarning: \n",
      "A value is trying to be set on a copy of a slice from a DataFrame\n",
      "\n",
      "See the caveats in the documentation: https://pandas.pydata.org/pandas-docs/stable/user_guide/indexing.html#returning-a-view-versus-a-copy\n",
      "  katie_weekday_df[\"endTime\"][i] = 22\n",
      "<ipython-input-70-5e5e604f0536>:75: SettingWithCopyWarning: \n",
      "A value is trying to be set on a copy of a slice from a DataFrame\n",
      "\n",
      "See the caveats in the documentation: https://pandas.pydata.org/pandas-docs/stable/user_guide/indexing.html#returning-a-view-versus-a-copy\n",
      "  katie_weekday_df[\"endTime\"][i] = 1\n",
      "<ipython-input-70-5e5e604f0536>:115: SettingWithCopyWarning: \n",
      "A value is trying to be set on a copy of a slice from a DataFrame\n",
      "\n",
      "See the caveats in the documentation: https://pandas.pydata.org/pandas-docs/stable/user_guide/indexing.html#returning-a-view-versus-a-copy\n",
      "  katie_weekday_df[\"endTime\"][i] = 21\n",
      "<ipython-input-70-5e5e604f0536>:119: SettingWithCopyWarning: \n",
      "A value is trying to be set on a copy of a slice from a DataFrame\n",
      "\n",
      "See the caveats in the documentation: https://pandas.pydata.org/pandas-docs/stable/user_guide/indexing.html#returning-a-view-versus-a-copy\n",
      "  katie_weekday_df[\"endTime\"][i] = 23\n",
      "<ipython-input-70-5e5e604f0536>:89: SettingWithCopyWarning: \n",
      "A value is trying to be set on a copy of a slice from a DataFrame\n",
      "\n",
      "See the caveats in the documentation: https://pandas.pydata.org/pandas-docs/stable/user_guide/indexing.html#returning-a-view-versus-a-copy\n",
      "  katie_weekday_df[\"endTime\"][i] = 8\n",
      "<ipython-input-70-5e5e604f0536>:95: SettingWithCopyWarning: \n",
      "A value is trying to be set on a copy of a slice from a DataFrame\n",
      "\n",
      "See the caveats in the documentation: https://pandas.pydata.org/pandas-docs/stable/user_guide/indexing.html#returning-a-view-versus-a-copy\n",
      "  katie_weekday_df[\"endTime\"][i] = 11\n",
      "<ipython-input-70-5e5e604f0536>:97: SettingWithCopyWarning: \n",
      "A value is trying to be set on a copy of a slice from a DataFrame\n",
      "\n",
      "See the caveats in the documentation: https://pandas.pydata.org/pandas-docs/stable/user_guide/indexing.html#returning-a-view-versus-a-copy\n",
      "  katie_weekday_df[\"endTime\"][i] = 12\n"
     ]
    }
   ],
   "source": [
    "days_df = pd.read_csv(\"days_of_week.csv\")\n",
    "\n",
    "for i in range(len(days_df[\"Date\"])):\n",
    "    item_list = days_df[\"Date\"][i].split(\"/\")\n",
    "   \n",
    "    for j in range(len(item_list)):\n",
    "        for num in range(1, 10, 1):\n",
    "            if item_list[j] == str(num):\n",
    "                item_list[j] = \"0\" + str(num)\n",
    "\n",
    "    days_df[\"Date\"][i] = \"20\" + item_list[2] + \"-\" + item_list[0] + \"-\" + item_list[1]\n",
    "    \n",
    "\n",
    "days_df.set_index(\"Date\", inplace=True)\n",
    "\n",
    "john_weekday_df = john_date_df.join(days_df)\n",
    "katie_weekday_df = katie_date_df.join(days_df)\n",
    "\n",
    "for i in range(len(john_weekday_df[\"endTime\"])):\n",
    "    item_list = john_weekday_df[\"endTime\"][i].split(\":\")\n",
    "    if item_list[0] == \"01\":\n",
    "        john_weekday_df[\"endTime\"][i] = 1\n",
    "    elif item_list[0] == \"02\":\n",
    "        john_weekday_df[\"endTime\"][i] = 2\n",
    "    elif item_list[0] == \"03\":\n",
    "        john_weekday_df[\"endTime\"][i] = 3\n",
    "    elif item_list[0] == \"04\":\n",
    "        john_weekday_df[\"endTime\"][i] = 4\n",
    "    elif item_list[0] == \"05\":\n",
    "        john_weekday_df[\"endTime\"][i] = 5\n",
    "    elif item_list[0] == \"06\":\n",
    "        john_weekday_df[\"endTime\"][i] = 6\n",
    "    elif item_list[0] == \"07\":\n",
    "        john_weekday_df[\"endTime\"][i] = 7\n",
    "    elif item_list[0] == \"08\":\n",
    "        john_weekday_df[\"endTime\"][i] = 8\n",
    "    elif item_list[0] == \"09\":\n",
    "        john_weekday_df[\"endTime\"][i] = 9\n",
    "    elif item_list[0] == \"10\":\n",
    "        john_weekday_df[\"endTime\"][i] = 10\n",
    "    elif item_list[0] == \"11\":\n",
    "        john_weekday_df[\"endTime\"][i] = 11\n",
    "    elif item_list[0] == \"12\":\n",
    "        john_weekday_df[\"endTime\"][i] = 12\n",
    "    elif item_list[0] == \"13\":\n",
    "        john_weekday_df[\"endTime\"][i] = 13\n",
    "    elif item_list[0] == \"14\":\n",
    "        john_weekday_df[\"endTime\"][i] = 14\n",
    "    elif item_list[0] == \"15\":\n",
    "        john_weekday_df[\"endTime\"][i] = 15\n",
    "    elif item_list[0] == \"16\":\n",
    "        john_weekday_df[\"endTime\"][i] = 16\n",
    "    elif item_list[0] == \"17\":\n",
    "        john_weekday_df[\"endTime\"][i] = 17\n",
    "    elif item_list[0] == \"18\":\n",
    "        john_weekday_df[\"endTime\"][i] = 18\n",
    "    elif item_list[0] == \"19\":\n",
    "        john_weekday_df[\"endTime\"][i] = 19\n",
    "    elif item_list[0] == \"20\":\n",
    "        john_weekday_df[\"endTime\"][i] = 20\n",
    "    elif item_list[0] == \"21\":\n",
    "        john_weekday_df[\"endTime\"][i] = 21\n",
    "    elif item_list[0] == \"22\":\n",
    "        john_weekday_df[\"endTime\"][i] = 22\n",
    "    elif item_list[0] == \"23\":\n",
    "        john_weekday_df[\"endTime\"][i] = 23\n",
    "    elif item_list[0] == \"24\":\n",
    "        john_weekday_df[\"endTime\"][i] = 24\n",
    "    elif item_list[0] == \"00\":\n",
    "        john_weekday_df[\"endTime\"][i] = 0\n",
    "\n",
    "for i in range(len(katie_weekday_df[\"endTime\"])):\n",
    "    item_list = katie_weekday_df[\"endTime\"][i].split(\":\")\n",
    "    if item_list[0] == \"01\":\n",
    "        katie_weekday_df[\"endTime\"][i] = 1\n",
    "    elif item_list[0] == \"02\":\n",
    "        katie_weekday_df[\"endTime\"][i] = 2\n",
    "    elif item_list[0] == \"03\":\n",
    "        katie_weekday_df[\"endTime\"][i] = 3\n",
    "    elif item_list[0] == \"04\":\n",
    "        katie_weekday_df[\"endTime\"][i] = 4\n",
    "    elif item_list[0] == \"05\":\n",
    "        katie_weekday_df[\"endTime\"][i] = 5\n",
    "    elif item_list[0] == \"06\":\n",
    "        katie_weekday_df[\"endTime\"][i] = 6\n",
    "    elif item_list[0] == \"07\":\n",
    "        katie_weekday_df[\"endTime\"][i] = 7\n",
    "    elif item_list[0] == \"08\":\n",
    "        katie_weekday_df[\"endTime\"][i] = 8\n",
    "    elif item_list[0] == \"09\":\n",
    "        katie_weekday_df[\"endTime\"][i] = 9\n",
    "    elif item_list[0] == \"10\":\n",
    "        katie_weekday_df[\"endTime\"][i] = 10\n",
    "    elif item_list[0] == \"11\":\n",
    "        katie_weekday_df[\"endTime\"][i] = 11\n",
    "    elif item_list[0] == \"12\":\n",
    "        katie_weekday_df[\"endTime\"][i] = 12\n",
    "    elif item_list[0] == \"13\":\n",
    "        katie_weekday_df[\"endTime\"][i] = 13\n",
    "    elif item_list[0] == \"14\":\n",
    "        katie_weekday_df[\"endTime\"][i] = 14\n",
    "    elif item_list[0] == \"15\":\n",
    "        katie_weekday_df[\"endTime\"][i] = 15\n",
    "    elif item_list[0] == \"16\":\n",
    "        katie_weekday_df[\"endTime\"][i] = 16\n",
    "    elif item_list[0] == \"17\":\n",
    "        katie_weekday_df[\"endTime\"][i] = 17\n",
    "    elif item_list[0] == \"18\":\n",
    "        katie_weekday_df[\"endTime\"][i] = 18\n",
    "    elif item_list[0] == \"19\":\n",
    "        katie_weekday_df[\"endTime\"][i] = 19\n",
    "    elif item_list[0] == \"20\":\n",
    "        katie_weekday_df[\"endTime\"][i] = 20\n",
    "    elif item_list[0] == \"21\":\n",
    "        katie_weekday_df[\"endTime\"][i] = 21\n",
    "    elif item_list[0] == \"22\":\n",
    "        katie_weekday_df[\"endTime\"][i] = 22\n",
    "    elif item_list[0] == \"23\":\n",
    "        katie_weekday_df[\"endTime\"][i] = 23\n",
    "    elif item_list[0] == \"24\":\n",
    "        katie_weekday_df[\"endTime\"][i] = 24\n",
    "    elif item_list[0] == \"00\":\n",
    "        katie_weekday_df[\"endTime\"][i] = 0"
   ]
  },
  {
   "cell_type": "markdown",
   "metadata": {},
   "source": [
    "Now that the data is useable, we can now set up the classifier and do the classification\n",
    "\n",
    "Before doing it, the hypothesis that we had was that trying to classify the Day of Week attribute may not be that accurate, since there likely may not be a large difference in our listening habits from day to day, and so this may not work well."
   ]
  },
  {
   "cell_type": "code",
   "execution_count": 78,
   "metadata": {},
   "outputs": [
    {
     "name": "stdout",
     "output_type": "stream",
     "text": [
      "John kNN Accuracy:  0.3613707165109034\n",
      "Katie kNN Accuracy:  0.2511499540018399\n"
     ]
    }
   ],
   "source": [
    "from sklearn.model_selection import train_test_split\n",
    "from sklearn.neighbors import KNeighborsClassifier\n",
    "from sklearn.metrics import accuracy_score\n",
    "from sklearn.preprocessing import MinMaxScaler\n",
    "\n",
    "scaler = MinMaxScaler()\n",
    "\n",
    "X_john = john_weekday_df.drop(\"Day of Week\", axis=1)\n",
    "X_john = X_john.drop(\"artistName\", axis=1)\n",
    "X_john = X_john.drop(\"trackName\", axis=1)\n",
    "#X_john = X_john.drop(\"msPlayed\", axis=1)\n",
    "y_john = john_weekday_df[\"Day of Week\"]\n",
    "\n",
    "X_john = scaler.fit_transform(X_john)\n",
    "\n",
    "X_train_john, X_test_john, y_train_john, y_test_john = train_test_split(X_john, y_john, random_state=0, stratify=y_john)\n",
    "\n",
    "knn_clf_john = KNeighborsClassifier(n_neighbors=50, metric=\"euclidean\")\n",
    "knn_clf_john.fit(X_train_john, y_train_john)\n",
    "\n",
    "y_predicted_john = knn_clf_john.predict(X_test_john)\n",
    "\n",
    "accuracy = knn_clf_john.score(X_test_john, y_test_john)\n",
    "print(\"John kNN Accuracy: \", accuracy)\n",
    "\n",
    "X_katie = katie_weekday_df.drop(\"Day of Week\", axis=1)\n",
    "X_katie = X_katie.drop(\"artistName\", axis=1)\n",
    "X_katie = X_katie.drop(\"trackName\", axis=1)\n",
    "#X_katie = X_katie.drop(\"msPlayed\", axis=1)\n",
    "y_katie = katie_weekday_df[\"Day of Week\"]\n",
    "\n",
    "X_katie = scaler.fit_transform(X_katie)\n",
    "\n",
    "X_train_katie, X_test_katie, y_train_katie, y_test_katie = train_test_split(X_katie, y_katie, random_state=0, stratify=y_katie)\n",
    "\n",
    "knn_clf_katie = KNeighborsClassifier(n_neighbors=50, metric=\"euclidean\")\n",
    "knn_clf_katie.fit(X_train_katie, y_train_katie)\n",
    "\n",
    "y_predicted_katie = knn_clf_katie.predict(X_test_katie)\n",
    "\n",
    "accuracy = knn_clf_katie.score(X_test_katie, y_test_katie)\n",
    "print(\"Katie kNN Accuracy: \", accuracy)"
   ]
  },
  {
   "cell_type": "markdown",
   "metadata": {},
   "source": [
    "From just this classifier alone, it seems that it is not super accurate, which could indicate either the classifier is not the bets option or that we possibly need to make some changes to improve this classifier in the future\n",
    "\n",
    "Now that we have this classifier, we can compare it to a different kind of classifier to test its accuracy. The first kind of classifer we decided to compare it to is a decision tree classifer, shown below:"
   ]
  },
  {
   "cell_type": "code",
   "execution_count": 81,
   "metadata": {},
   "outputs": [
    {
     "name": "stdout",
     "output_type": "stream",
     "text": [
      "John tree Accuracy:  0.367601246105919\n",
      "Katie tree Accuracy:  0.20607175712971482\n"
     ]
    }
   ],
   "source": [
    "from sklearn.tree import DecisionTreeClassifier\n",
    "\n",
    "tree_clf_john = DecisionTreeClassifier(max_depth=20)\n",
    "\n",
    "tree_clf_john.fit(X_train_john, y_train_john)\n",
    "\n",
    "y_predicted_john = tree_clf_john.predict(X_test_john)\n",
    "\n",
    "accuracy = tree_clf_john.score(X_test_john, y_test_john)\n",
    "print(\"John tree Accuracy: \", accuracy)\n",
    "\n",
    "tree_clf_katie = DecisionTreeClassifier(max_depth=20)\n",
    "\n",
    "tree_clf_katie.fit(X_train_katie, y_train_katie)\n",
    "\n",
    "y_predicted_katie = tree_clf_katie.predict(X_test_katie)\n",
    "\n",
    "accuracy = tree_clf_katie.score(X_test_katie, y_test_katie)\n",
    "print(\"Katie tree Accuracy: \", accuracy)"
   ]
  }
 ],
 "metadata": {
  "interpreter": {
   "hash": "bcd9b2a4738c981f7b4f2fa7565d92308fafd46e8a45ef32f8e644ccd14446da"
  },
  "kernelspec": {
   "display_name": "Python 3",
   "language": "python",
   "name": "python3"
  },
  "language_info": {
   "codemirror_mode": {
    "name": "ipython",
    "version": 3
   },
   "file_extension": ".py",
   "mimetype": "text/x-python",
   "name": "python",
   "nbconvert_exporter": "python",
   "pygments_lexer": "ipython3",
   "version": "3.8.8"
  }
 },
 "nbformat": 4,
 "nbformat_minor": 4
}
