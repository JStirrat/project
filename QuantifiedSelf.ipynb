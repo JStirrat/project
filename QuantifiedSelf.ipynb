{
 "cells": [
  {
   "cell_type": "markdown",
   "metadata": {},
   "source": [
    "# Quanitifed Self Project\n",
    "\n",
    "Katie Imhof and John Stirrat\n",
    "CPSC 222, Fall 21"
   ]
  },
  {
   "cell_type": "markdown",
   "metadata": {},
   "source": [
    "### Introduction\n",
    "\n",
    "* The domain that we chose to look at for this project is our Spotify listening data. The reasons we decided to use this domain was because we both enjoy listening to music a lot, and thought it would be interesting to analyze our listening habits, since we both spend a lot of time using Spotify.\n",
    "* The data from Spotify is in JSON files.\n",
    "* There is one table from this dataset, and it is collected whenever a song is listened too, where all of the attributes (listed below) are recorded. \n",
    "* The attributes this data has are:\n",
    "    * Date and End time (which we will split and use as two seperate attributes)\n",
    "        * Continuous and interval\n",
    "    * Artist Name\n",
    "        * Categorical/discrete and nominal\n",
    "    * Track Name\n",
    "        * Categorical/discrete and nominal\n",
    "    * Time played in Ms\n",
    "        * Continuous and interval\n",
    "* We are interested in trying to classify the amount of time spent listening based on external factors.\n",
    "* The impact of our results could lead to change in our listening habits, and could also help us understand why we listen to music more than other times.\n",
    "* Potential stakeholders that could be interested in our results could be businesses like radio stations, stores, restaurants, etc, since they could potentially find the best times to play ads since they will see what factors influence listening time, so they may have an interest in our project.\n"
   ]
  },
  {
   "cell_type": "markdown",
   "metadata": {},
   "source": [
    "### Data Analysis"
   ]
  },
  {
   "cell_type": "markdown",
   "metadata": {},
   "source": [
    "#### Loading and Cleaning Data:\n",
    "\n",
    "The cleaning that I did was to separate the \"endTime\" attribute into the separate date and end time values, since they will be more usable and relevant if they are separate. We will also use date as a foreign key to join tables in the future, so it will be better if that is its own column."
   ]
  },
  {
   "cell_type": "code",
   "execution_count": 2,
   "metadata": {
    "tags": []
   },
   "outputs": [],
   "source": [
    "import utils\n",
    "import pandas as pd\n",
    "\n",
    "john_stream_hist_df = utils.get_spotify_df(\"JohnStreamingHistory0.json\")\n",
    "\n",
    "katie_stream_hist_df = utils.get_spotify_df(\"KatieStreamingHistory0.json\")"
   ]
  },
  {
   "cell_type": "markdown",
   "metadata": {},
   "source": [
    "#### Hypothesis Testing"
   ]
  },
  {
   "cell_type": "markdown",
   "metadata": {},
   "source": [
    "Problem:\n",
    "* Using the Spotify data, is the mean amount of time (in milliseconds) John listened to music between November 2020 and January 2021 greater than the mean amount of time Katie listened to music between November 2020 and January 2021?"
   ]
  },
  {
   "cell_type": "markdown",
   "metadata": {},
   "source": [
    "Type of Hypothesis T-Test:\n",
    "* An independent, two sample, one-tailed test will be performed. It's an independent test because the two groups didn't have an affect on each other, they are unrelated. It's a two sample test because there are two groups. It's a one-tailed test because we are comparing the mean amount of time listened of the two groups. A one-tailed test will be more helpful because we want $H_1$ to state a direction."
   ]
  },
  {
   "cell_type": "markdown",
   "metadata": {},
   "source": [
    "##### Step 1: State the null and alternate hypothesis"
   ]
  },
  {
   "cell_type": "markdown",
   "metadata": {},
   "source": [
    "$H_0$: $\\mu_{John}\\leq \\mu_{Katie}$\n",
    "\n",
    "\n",
    "$H_1$: $\\mu_{John} > \\mu_{Katie}$"
   ]
  },
  {
   "cell_type": "markdown",
   "metadata": {},
   "source": [
    "##### Step 2: Select the level of significance"
   ]
  },
  {
   "cell_type": "markdown",
   "metadata": {},
   "source": [
    "$\\alpha$ = 0.05"
   ]
  },
  {
   "cell_type": "markdown",
   "metadata": {},
   "source": [
    "##### Step 3: Select the appropriate test statistic"
   ]
  },
  {
   "cell_type": "markdown",
   "metadata": {},
   "source": [
    "$t=\\frac{\\overline{X_{John}} - \\overline{X_{Katie}}}{\\sqrt{s_p^2(\\frac{1}{n_{John}}+\\frac{1}{n_{Katie}})}}$"
   ]
  },
  {
   "cell_type": "markdown",
   "metadata": {},
   "source": [
    "##### Step 4: Formulate the decision rule"
   ]
  },
  {
   "cell_type": "markdown",
   "metadata": {},
   "source": [
    "First, we need to grab the dates we want which is November 2020 to January 2021, two months worth of data."
   ]
  },
  {
   "cell_type": "code",
   "execution_count": 3,
   "metadata": {},
   "outputs": [],
   "source": [
    "katie_date_df = katie_stream_hist_df[\"2020-11-01\":\"2021-01-01\"]\n",
    "john_date_df = john_stream_hist_df[\"2020-11-01\":\"2021-01-01\"]"
   ]
  },
  {
   "cell_type": "markdown",
   "metadata": {},
   "source": [
    "Now we want to grab the \"msPlayed\" column to grab the amount of music we listened to during those months."
   ]
  },
  {
   "cell_type": "code",
   "execution_count": 4,
   "metadata": {},
   "outputs": [],
   "source": [
    "katie_ms_played = katie_date_df[\"msPlayed\"]\n",
    "john_ms_played = john_date_df[\"msPlayed\"]"
   ]
  },
  {
   "cell_type": "markdown",
   "metadata": {},
   "source": [
    "Next, we need to find n for each group (the total amount of days that we're using)."
   ]
  },
  {
   "cell_type": "code",
   "execution_count": 5,
   "metadata": {},
   "outputs": [],
   "source": [
    "n_katie = len(katie_ms_played)\n",
    "n_john = len(john_ms_played)"
   ]
  },
  {
   "cell_type": "code",
   "execution_count": 6,
   "metadata": {},
   "outputs": [
    {
     "name": "stdout",
     "output_type": "stream",
     "text": [
      "df: 5627\n"
     ]
    }
   ],
   "source": [
    "df = n_katie + n_john - 2\n",
    "print(\"df:\", df)"
   ]
  },
  {
   "cell_type": "markdown",
   "metadata": {},
   "source": [
    "Since it's a one-tailed test, $\\alpha$ = 0.05 and df = 5627\n",
    "\n",
    "Looking at the t-table, t-critical is 1.645."
   ]
  },
  {
   "cell_type": "markdown",
   "metadata": {},
   "source": [
    "If t-computed > 1.645, then reject $H_0$.\n",
    "\n",
    "If t-computed <= 1.645, do not reject $H_0$."
   ]
  },
  {
   "cell_type": "markdown",
   "metadata": {},
   "source": [
    "### Step 5: Make a decision"
   ]
  },
  {
   "cell_type": "markdown",
   "metadata": {},
   "source": [
    "Using SciPy, we will now calculate t-computed."
   ]
  },
  {
   "cell_type": "code",
   "execution_count": 7,
   "metadata": {},
   "outputs": [
    {
     "name": "stdout",
     "output_type": "stream",
     "text": [
      "t: 6.863307298918676 p: 3.7260903946574615e-12\n"
     ]
    }
   ],
   "source": [
    "import scipy.stats as stats\n",
    "\n",
    "t, p = stats.ttest_ind(john_ms_played, katie_ms_played)\n",
    "print(\"t:\", t, \"p:\", p / 2)"
   ]
  },
  {
   "cell_type": "markdown",
   "metadata": {},
   "source": [
    "Since t-computed (6.86) > t-critical (1.645), reject $H_0$, $\\mu_{John} > \\mu_{Katie}$.\n",
    "\n",
    "Also, p-value < $\\alpha$ (0.05) => reject $H_0$."
   ]
  },
  {
   "cell_type": "markdown",
   "metadata": {},
   "source": [
    "Conclusion:\n",
    "* At the 0.05 level of significance, the mean amount of time (in milliseconds) that John listened to music between November 2020 and January 2021 appears to be greater than the mean amount of time Katie listened to music between November 2020 and January 2021."
   ]
  },
  {
   "cell_type": "markdown",
   "metadata": {},
   "source": [
    "#### Visualizations"
   ]
  },
  {
   "cell_type": "markdown",
   "metadata": {},
   "source": [
    "In order to display the data in a way that's easy to understand, we're going to convert the amount of time from milliseconds to seconds of the sample means."
   ]
  },
  {
   "cell_type": "code",
   "execution_count": 8,
   "metadata": {},
   "outputs": [],
   "source": [
    "import numpy as np\n",
    "\n",
    "Xbar_john = np.mean(john_ms_played)\n",
    "Xbar_katie = np.mean(katie_ms_played)\n",
    "\n",
    "Xbar_seconds_john = Xbar_john / 1000\n",
    "Xbar_seconds_katie = Xbar_katie / 1000"
   ]
  },
  {
   "cell_type": "markdown",
   "metadata": {},
   "source": [
    "To show John's mean compared to Katie's mean, we are going to use a pie chart, using the matplotlib library."
   ]
  },
  {
   "cell_type": "code",
   "execution_count": 9,
   "metadata": {},
   "outputs": [
    {
     "data": {
      "image/png": "[encoded data removed]",
      "text/plain": [
       "<Figure size 432x288 with 1 Axes>"
      ]
     },
     "metadata": {},
     "output_type": "display_data"
    }
   ],
   "source": [
    "import matplotlib.pyplot as plt\n",
    "\n",
    "means_list = [Xbar_seconds_john, Xbar_seconds_katie]\n",
    "label = [\"John\", \"Katie\"]\n",
    "\n",
    "plt.pie(means_list, labels=label)\n",
    "plt.show()"
   ]
  },
  {
   "cell_type": "markdown",
   "metadata": {},
   "source": [
    "On average, John listens to music more often than Katie."
   ]
  },
  {
   "cell_type": "markdown",
   "metadata": {},
   "source": [
    "# kNN Classification\n",
    "\n",
    "For this classification task, we will be training a kNN classifier to see if it can accurately predict what day of the week a song is listened to on based on what time of day the song is listened to. To do this, we will use the endTime attribute, since it is recorded as a time of day, and so we can use this to see what time of day we listened to a song on a certain day.\n",
    "\n",
    "To do this, the first step is to join our data with a table that contains the day of the week for a certain date. We used the table of date provided for DA3 for the days of the week.   \n",
    "The problem with using this table was, however, that the date was provided in this table was in a different format than the Spotify datasets, so we had to reformat it so it would match, and then could be used to join the two tables."
   ]
  },
  {
   "cell_type": "code",
   "execution_count": 11,
   "metadata": {},
   "outputs": [],
   "source": [
    "days_df = pd.read_csv(\"days_of_week.csv\")\n",
    "\n",
    "for i in range(len(days_df[\"Date\"])):\n",
    "    item_list = days_df[\"Date\"][i].split(\"/\")\n",
    "   \n",
    "    for j in range(len(item_list)):\n",
    "        for num in range(1, 10, 1):\n",
    "            if item_list[j] == str(num):\n",
    "                item_list[j] = \"0\" + str(num)\n",
    "\n",
    "    days_df[\"Date\"][i] = \"20\" + item_list[2] + \"-\" + item_list[0] + \"-\" + item_list[1]\n",
    "    \n",
    "\n",
    "days_df.set_index(\"Date\", inplace=True)\n",
    "\n",
    "john_weekday_df = john_date_df.join(days_df)"
   ]
  }
 ],
 "metadata": {
  "interpreter": {
   "hash": "bcd9b2a4738c981f7b4f2fa7565d92308fafd46e8a45ef32f8e644ccd14446da"
  },
  "kernelspec": {
   "display_name": "Python 3",
   "language": "python",
   "name": "python3"
  },
  "language_info": {
   "codemirror_mode": {
    "name": "ipython",
    "version": 3
   },
   "file_extension": ".py",
   "mimetype": "text/x-python",
   "name": "python",
   "nbconvert_exporter": "python",
   "pygments_lexer": "ipython3",
   "version": "3.8.8"
  }
 },
 "nbformat": 4,
 "nbformat_minor": 4
}
